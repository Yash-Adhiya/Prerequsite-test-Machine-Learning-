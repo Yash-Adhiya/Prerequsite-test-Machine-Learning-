{
  "nbformat": 4,
  "nbformat_minor": 0,
  "metadata": {
    "colab": {
      "provenance": []
    },
    "kernelspec": {
      "name": "python3",
      "display_name": "Python 3"
    },
    "language_info": {
      "name": "python"
    }
  },
  "cells": [
    {
      "cell_type": "markdown",
      "source": [
        "Q.1 \n",
        "\n",
        "Given two matrix with dimension (n,k) and (k,m).\n",
        "\n",
        "the resulting matrix will be of dimension (n,m)\n",
        "\n",
        "now, each entry of resulted matrix is a result of dot product of row of first matrix and column of the second matrix. so total multiplication for this would be equal to k. we have n x m such entry so, total multiplication will be n*m*k. \n",
        "\n",
        "similarly each dot product will need (k-1) addition. and we have n x m such entries. so total no of addition require will be n*m*(p-1)"
      ],
      "metadata": {
        "id": "B5ixPw7LHO_V"
      }
    },
    {
      "cell_type": "code",
      "source": [],
      "metadata": {
        "id": "542rtVATJvP6"
      },
      "execution_count": null,
      "outputs": []
    },
    {
      "cell_type": "markdown",
      "source": [
        "Q.2"
      ],
      "metadata": {
        "id": "sLwMi0jiKpyF"
      }
    },
    {
      "cell_type": "code",
      "source": [
        "def matrix_multiply(A,B):\n",
        "    m,n = len(A), len(B[0])\n",
        "    k = len(B)\n",
        "    mat = [[0 for _ in range(n)] for _ in range(m)]\n",
        "\n",
        "    for i in range(m):\n",
        "        for j in range(n):\n",
        "            for t in range(k):\n",
        "                mat[i][j] += A[i][t]*B[t][j]\n",
        "\n",
        "    return mat"
      ],
      "metadata": {
        "id": "CLKXYVMOKsZx"
      },
      "execution_count": 1,
      "outputs": []
    },
    {
      "cell_type": "code",
      "source": [
        "#try this out\n",
        "\n",
        "A = [[1,2,3],[2,3,4]]  # (2,3) matrix\n",
        "B = [[1,2],[3,4],[1,5]]\n",
        "\n",
        "mat = matrix_multiply(A,B)\n",
        "print(mat)"
      ],
      "metadata": {
        "colab": {
          "base_uri": "https://localhost:8080/"
        },
        "id": "HvdRjevrL7Gl",
        "outputId": "9c690c64-6118-4288-f26f-7125d51ea9ee"
      },
      "execution_count": 2,
      "outputs": [
        {
          "output_type": "stream",
          "name": "stdout",
          "text": [
            "[[10, 25], [15, 36]]\n"
          ]
        }
      ]
    },
    {
      "cell_type": "code",
      "source": [
        "#using numpy \n",
        "\n",
        "import numpy as np\n",
        "\n",
        "def matmul(A, B):\n",
        "    return np.matmul(A, B)\n",
        "\n",
        "mat = matmul(A,B)"
      ],
      "metadata": {
        "id": "j0kGbgbEMWF5"
      },
      "execution_count": 3,
      "outputs": []
    },
    {
      "cell_type": "code",
      "source": [
        "print(mat)"
      ],
      "metadata": {
        "colab": {
          "base_uri": "https://localhost:8080/"
        },
        "id": "VOPMYzCrNOFc",
        "outputId": "26d30ac2-29b4-46d1-cece-4b5c849cb5d8"
      },
      "execution_count": 4,
      "outputs": [
        {
          "output_type": "stream",
          "name": "stdout",
          "text": [
            "[[10 25]\n",
            " [15 36]]\n"
          ]
        }
      ]
    },
    {
      "cell_type": "code",
      "source": [
        "#both have same answers"
      ],
      "metadata": {
        "id": "UumvJfweNUrD"
      },
      "execution_count": 5,
      "outputs": []
    },
    {
      "cell_type": "markdown",
      "source": [
        "cheking for time "
      ],
      "metadata": {
        "id": "es4zEGGuNbyz"
      }
    },
    {
      "cell_type": "code",
      "source": [
        "import time\n",
        "\n",
        "start_time  = time.time()\n",
        "matrix_multiply(A,B)\n",
        "end_time = time.time()\n",
        "\n",
        "time_taken_1 = end_time - start_time\n",
        "\n",
        "print(f\"time taken by matrix_multiplication by bruteforce = {time_taken_1}\")\n",
        "\n",
        "start_time_ = time.time()\n",
        "matmul(A,B)\n",
        "end_time_ = time.time()\n",
        "\n",
        "time_taken_2 = end_time_ - start_time_ \n",
        "print(f\"time taken by numpy function = {time_taken_2}\")"
      ],
      "metadata": {
        "colab": {
          "base_uri": "https://localhost:8080/"
        },
        "id": "6d21J9TcNaRO",
        "outputId": "38a1a297-166e-409b-e8e3-52cdcac98178"
      },
      "execution_count": 76,
      "outputs": [
        {
          "output_type": "stream",
          "name": "stdout",
          "text": [
            "time taken by matrix_multiplication by bruteforce = 9.489059448242188e-05\n",
            "time taken by numpy function = 0.000423431396484375\n"
          ]
        }
      ]
    },
    {
      "cell_type": "code",
      "source": [],
      "metadata": {
        "id": "iaLBMGhpN4tW"
      },
      "execution_count": 6,
      "outputs": []
    },
    {
      "cell_type": "markdown",
      "source": [
        "Q.3\n"
      ],
      "metadata": {
        "id": "XDXFWJZPP8WB"
      }
    },
    {
      "cell_type": "code",
      "source": [
        "# finding median by finding max element, then second max element will require a pass to array untill minmum element. which cause O(n^2) complexity. \n",
        "arr = [3,1,5,4,2]\n",
        "import random\n",
        "\n",
        "def median_(array):\n",
        "    #O(n^2) approach\n",
        "  median = 0\n",
        "  for i in range(len(array)):\n",
        "    count = 0\n",
        "    for j in range(len(array)):\n",
        "      if array[j] <= array[i]:\n",
        "        count += 1\n",
        "    if count == len(array) // 2+1:\n",
        "      median = array[i]\n",
        "      break\n",
        "  return median\n",
        "            \n",
        "print(median_(arr))\n",
        "\n",
        "\n",
        "def median_sort(arr):\n",
        "    # O(n log n) method\n",
        "    arr.sort()\n",
        "    if len(arr)%2==0:\n",
        "        return (arr[len(arr)//2] + arr[len(arr)//2+1])/2\n",
        "    else:\n",
        "        return arr[len(arr)//2]\n",
        "\n",
        "print(median_sort(arr))"
      ],
      "metadata": {
        "colab": {
          "base_uri": "https://localhost:8080/"
        },
        "id": "FWc8Nd59P8-V",
        "outputId": "54aac890-f35a-4192-eed3-b75e1a3b6ca3"
      },
      "execution_count": 69,
      "outputs": [
        {
          "output_type": "stream",
          "name": "stdout",
          "text": [
            "3\n",
            "3\n"
          ]
        }
      ]
    },
    {
      "cell_type": "code",
      "source": [
        "def median_by_numpy(arr):\n",
        "    return np.median(arr)"
      ],
      "metadata": {
        "id": "qz4K_ek6S6Ac"
      },
      "execution_count": 71,
      "outputs": []
    },
    {
      "cell_type": "code",
      "source": [
        "median_by_numpy(arr)"
      ],
      "metadata": {
        "colab": {
          "base_uri": "https://localhost:8080/"
        },
        "id": "8p-fJt3LSN4e",
        "outputId": "f57dd35a-b437-4c43-e778-4066bda7bb6b"
      },
      "execution_count": 72,
      "outputs": [
        {
          "output_type": "execute_result",
          "data": {
            "text/plain": [
              "3.0"
            ]
          },
          "metadata": {},
          "execution_count": 72
        }
      ]
    },
    {
      "cell_type": "code",
      "source": [
        "start_time  = time.time()\n",
        "median_(arr)\n",
        "end_time = time.time()\n",
        "\n",
        "time_taken_1 = end_time - start_time\n",
        "\n",
        "print(f\"time taken by function median_ = {time_taken_1}\")\n",
        "\n",
        "start_time_ = time.time()\n",
        "median_by_numpy(arr)\n",
        "end_time_ = time.time()\n",
        "\n",
        "time_taken_2 = end_time_ - start_time_ \n",
        "print(f\"time taken by numpy function = {time_taken_2}\")"
      ],
      "metadata": {
        "colab": {
          "base_uri": "https://localhost:8080/"
        },
        "id": "4tzHNSukTMSZ",
        "outputId": "11bfd6a6-85fd-4369-dcd7-92facbf818b4"
      },
      "execution_count": 77,
      "outputs": [
        {
          "output_type": "stream",
          "name": "stdout",
          "text": [
            "time taken by function median_ = 8.7738037109375e-05\n",
            "time taken by numpy function = 0.00043487548828125\n"
          ]
        }
      ]
    },
    {
      "cell_type": "markdown",
      "source": [
        "Q.4"
      ],
      "metadata": {
        "id": "ZtmYQc0lTj8X"
      }
    },
    {
      "cell_type": "code",
      "source": [],
      "metadata": {
        "id": "OQ7uAy13Tkls"
      },
      "execution_count": 7,
      "outputs": []
    },
    {
      "cell_type": "markdown",
      "source": [
        "The gradient of the function f(x, y) = x^2y + y^3sin(x) with respect to x and y is a vector of the form [df/dx, df/dy], where df/dx is the partial derivative of f with respect to x and df/dy is the partial derivative of f with respect to y.\n",
        "\n",
        "To find the gradient of the given function f(x, y), you can use the following formulas:\n",
        "\n",
        "df/dx = 2xy + y^3cos(x)\n",
        "df/dy = x^2 + 3y^2sin(x)\n",
        "\n",
        "So, the gradient of the function f(x, y) = x^2y + y^3sin(x) is [2xy + y^3cos(x), x^2 + 3y^2sin(x)].\n",
        "\n",
        "\n",
        "\n",
        "\n"
      ],
      "metadata": {
        "id": "pOcpaYpEUAN2"
      }
    },
    {
      "cell_type": "markdown",
      "source": [
        "Comparing with JAX\n",
        "Q .5\n",
        "\n",
        "\n",
        "---\n",
        "\n"
      ],
      "metadata": {
        "id": "NZZ2nbFvWpgj"
      }
    },
    {
      "cell_type": "code",
      "source": [
        "!pip install jax jaxlib\n"
      ],
      "metadata": {
        "colab": {
          "base_uri": "https://localhost:8080/"
        },
        "id": "JqVCWZfMWtHp",
        "outputId": "a1b6a741-b7c0-4604-dc7b-f0a13188e4e9"
      },
      "execution_count": 8,
      "outputs": [
        {
          "output_type": "stream",
          "name": "stdout",
          "text": [
            "Looking in indexes: https://pypi.org/simple, https://us-python.pkg.dev/colab-wheels/public/simple/\n",
            "Requirement already satisfied: jax in /usr/local/lib/python3.8/dist-packages (0.3.25)\n",
            "Requirement already satisfied: jaxlib in /usr/local/lib/python3.8/dist-packages (0.3.25+cuda11.cudnn805)\n",
            "Requirement already satisfied: opt-einsum in /usr/local/lib/python3.8/dist-packages (from jax) (3.3.0)\n",
            "Requirement already satisfied: typing-extensions in /usr/local/lib/python3.8/dist-packages (from jax) (4.4.0)\n",
            "Requirement already satisfied: numpy>=1.20 in /usr/local/lib/python3.8/dist-packages (from jax) (1.21.6)\n",
            "Requirement already satisfied: scipy>=1.5 in /usr/local/lib/python3.8/dist-packages (from jax) (1.7.3)\n"
          ]
        }
      ]
    },
    {
      "cell_type": "code",
      "source": [
        "import jax.numpy as jnp\n",
        "from jax import grad, random\n",
        "import math\n",
        "\n",
        "def f(x, y):\n",
        "    return x**2*y + y**3*jnp.sin(x)\n",
        "\n",
        "# Get a few random values of x and y\n",
        "key = random.PRNGKey(0)\n",
        "x, y = random.uniform(key, (2,))\n",
        "\n",
        "# Evaluate the gradient of f at x and y\n",
        "g = grad(f)(x, y)\n",
        "\n",
        "\n",
        "for i in range(5):\n",
        "    key = random.PRNGKey(0)\n",
        "    x, y = random.uniform(key, (2,))\n",
        "    g = grad(f)(x, y)\n",
        "    print(i+1)\n",
        "    print()\n",
        "    print(f\"Numerical approximation: {g}\")\n",
        "    print(f\"Analytical solution: [2*{x}*{y} + {y}**3*cos({x}), {x}**2 + 3*{y}**2*sin({x})] = {2*x*y + y**3*math.cos(x), x**2 + 3*y**2*math.sin(x)}\")\n",
        "    print()\n"
      ],
      "metadata": {
        "colab": {
          "base_uri": "https://localhost:8080/"
        },
        "id": "Pbao80Y-X4t5",
        "outputId": "3f62ef58-276d-4617-f13a-ccc0da04464d"
      },
      "execution_count": 9,
      "outputs": [
        {
          "output_type": "stream",
          "name": "stderr",
          "text": [
            "WARNING:jax._src.lib.xla_bridge:No GPU/TPU found, falling back to CPU. (Set TF_CPP_MIN_LOG_LEVEL=0 and rerun for more info.)\n"
          ]
        },
        {
          "output_type": "stream",
          "name": "stdout",
          "text": [
            "1\n",
            "\n",
            "Numerical approximation: 0.8557004332542419\n",
            "Analytical solution: [2*0.21629536151885986*0.804124116897583 + 0.804124116897583**3*cos(0.21629536151885986), 0.21629536151885986**2 + 3*0.804124116897583**2*sin(0.21629536151885986)] = (DeviceArray(0.85570043, dtype=float32), DeviceArray(0.46309963, dtype=float32))\n",
            "\n",
            "2\n",
            "\n",
            "Numerical approximation: 0.8557004332542419\n",
            "Analytical solution: [2*0.21629536151885986*0.804124116897583 + 0.804124116897583**3*cos(0.21629536151885986), 0.21629536151885986**2 + 3*0.804124116897583**2*sin(0.21629536151885986)] = (DeviceArray(0.85570043, dtype=float32), DeviceArray(0.46309963, dtype=float32))\n",
            "\n",
            "3\n",
            "\n",
            "Numerical approximation: 0.8557004332542419\n",
            "Analytical solution: [2*0.21629536151885986*0.804124116897583 + 0.804124116897583**3*cos(0.21629536151885986), 0.21629536151885986**2 + 3*0.804124116897583**2*sin(0.21629536151885986)] = (DeviceArray(0.85570043, dtype=float32), DeviceArray(0.46309963, dtype=float32))\n",
            "\n",
            "4\n",
            "\n",
            "Numerical approximation: 0.8557004332542419\n",
            "Analytical solution: [2*0.21629536151885986*0.804124116897583 + 0.804124116897583**3*cos(0.21629536151885986), 0.21629536151885986**2 + 3*0.804124116897583**2*sin(0.21629536151885986)] = (DeviceArray(0.85570043, dtype=float32), DeviceArray(0.46309963, dtype=float32))\n",
            "\n",
            "5\n",
            "\n",
            "Numerical approximation: 0.8557004332542419\n",
            "Analytical solution: [2*0.21629536151885986*0.804124116897583 + 0.804124116897583**3*cos(0.21629536151885986), 0.21629536151885986**2 + 3*0.804124116897583**2*sin(0.21629536151885986)] = (DeviceArray(0.85570043, dtype=float32), DeviceArray(0.46309963, dtype=float32))\n",
            "\n"
          ]
        }
      ]
    },
    {
      "cell_type": "code",
      "source": [
        "import sympy as sym\n",
        "\n",
        "# Define the variables x and y as symbols\n",
        "x, y = sym.symbols('x, y')\n",
        "\n",
        "# Define the function f\n",
        "f = x**2*y + y**3*sym.sin(x)\n",
        "\n",
        "# Differentiate f with respect to x and y\n",
        "df_dx = sym.diff(f, x)\n",
        "df_dy = sym.diff(f, y)\n",
        "\n",
        "# Print the gradient of f\n",
        "print(f\"Gradient of f(x, y) = x^2*y + y^3*sin(x): [{df_dx}, {df_dy}]\")\n"
      ],
      "metadata": {
        "colab": {
          "base_uri": "https://localhost:8080/"
        },
        "id": "OC0AJ7J6VFJd",
        "outputId": "b484c193-4e04-4386-f28a-8980d2c108b1"
      },
      "execution_count": 10,
      "outputs": [
        {
          "output_type": "stream",
          "name": "stdout",
          "text": [
            "Gradient of f(x, y) = x^2*y + y^3*sin(x): [2*x*y + y**3*cos(x), x**2 + 3*y**2*sin(x)]\n"
          ]
        }
      ]
    },
    {
      "cell_type": "markdown",
      "source": [
        "Hence same gradient"
      ],
      "metadata": {
        "id": "MzJc2nKodCUN"
      }
    },
    {
      "cell_type": "code",
      "source": [],
      "metadata": {
        "id": "nhLlIT9UZdNA"
      },
      "execution_count": 10,
      "outputs": []
    },
    {
      "cell_type": "markdown",
      "source": [
        "Q 7\n",
        "\n"
      ],
      "metadata": {
        "id": "s5mllxCQdybE"
      }
    },
    {
      "cell_type": "code",
      "source": [
        "di = {2022:\n",
        " {'branch 1' :{'roll no' : 1,'Name':'N','Marks':{'Maths':100,'English':70}},\n",
        " 'branch 2':\" \"},\n",
        " 2023:\" \"}"
      ],
      "metadata": {
        "id": "057dePbFdzH7"
      },
      "execution_count": 11,
      "outputs": []
    },
    {
      "cell_type": "code",
      "source": [
        "di"
      ],
      "metadata": {
        "colab": {
          "base_uri": "https://localhost:8080/"
        },
        "id": "V9UX9NmFfFl5",
        "outputId": "dc7f3ba0-a7bd-46b2-9549-4aaf25bdc87b"
      },
      "execution_count": 12,
      "outputs": [
        {
          "output_type": "execute_result",
          "data": {
            "text/plain": [
              "{2022: {'branch 1': {'roll no': 1,\n",
              "   'Name': 'N',\n",
              "   'Marks': {'Maths': 100, 'English': 70}},\n",
              "  'branch 2': ' '},\n",
              " 2023: ' '}"
            ]
          },
          "metadata": {},
          "execution_count": 12
        }
      ]
    },
    {
      "cell_type": "code",
      "source": [
        "class Student:\n",
        "  def __init__(self, name, roll_number, marks):\n",
        "    self.name = name\n",
        "    self.roll_number = roll_number\n",
        "    self.marks = marks\n",
        "\n",
        "class Branch:\n",
        "  def __init__(self, name, students):\n",
        "    self.name = name\n",
        "    self.students = students\n",
        "\n",
        "class Year:\n",
        "  def __init__(self, year, branches):\n",
        "    self.year = year\n",
        "    self.branches = branches\n",
        "\n",
        "# Create a student\n",
        "student1 = Student(\"Yash\", 1, [90, 80, 70, 60])\n",
        "student2 = Student(\"Nikunj\", 2, [70, 60, 90, 80])\n",
        "\n",
        "# Create a branch\n",
        "branch1 = Branch(\"Computer Science\", [student1, student2])\n",
        "branch2 = Branch(\"Chemical Engineering\", [student2, student1])\n",
        "\n",
        "# Create a year\n",
        "year1 = Year(2020, [branch1, branch2])\n",
        "year2 = Year(2021, [branch2, branch1])\n",
        "\n",
        "# Create the overall database\n",
        "database = [year1, year2]\n"
      ],
      "metadata": {
        "id": "r1J2-3e8svuR"
      },
      "execution_count": 62,
      "outputs": []
    },
    {
      "cell_type": "code",
      "source": [],
      "metadata": {
        "colab": {
          "base_uri": "https://localhost:8080/"
        },
        "id": "lYrtatfiNkov",
        "outputId": "cb2f5eaf-307f-4684-abe9-a45197934cf5"
      },
      "execution_count": 64,
      "outputs": [
        {
          "output_type": "execute_result",
          "data": {
            "text/plain": [
              "<__main__.Year at 0x7f40e82dfd90>"
            ]
          },
          "metadata": {},
          "execution_count": 64
        }
      ]
    },
    {
      "cell_type": "markdown",
      "source": [
        "Q.8"
      ],
      "metadata": {
        "id": "mPmjLDKRM8W8"
      }
    },
    {
      "cell_type": "markdown",
      "source": [
        "Q.9"
      ],
      "metadata": {
        "id": "6ZfYKklgtvDM"
      }
    },
    {
      "cell_type": "code",
      "source": [
        "import matplotlib.pyplot as plt\n",
        "plt.figure(figsize = (20,12))\n",
        "\n",
        "# Create a domain of x values from 0.5 to 100.0 in steps of 0.5\n",
        "x = [(i+1) * 0.5 for i in range(201)]\n",
        "\n",
        "# Calculate the y values for each function\n",
        "y1 = [x for x in x]\n",
        "y2 = [x**2 for x in x]\n",
        "y3 = [(x**3)/100 for x in x]\n",
        "y4 = [math.sin(x) for x in x]\n",
        "y5 = [(math.sin(x))/x for x in x]\n",
        "y6 = [math.log(x) for x in x]\n",
        "y7 = [math.exp(x) for x in x]\n",
        "# Create a figure and axes object\n",
        "plt.subplot(2,4,1)\n",
        "plt.plot(x,y1)\n",
        "plt.subplot(2,4,2)\n",
        "plt.plot(x,y2)\n",
        "plt.subplot(2,4,3)\n",
        "plt.plot(x,y3)\n",
        "plt.subplot(2,4,4)\n",
        "plt.plot(x,y4)\n",
        "plt.subplot(2,4,5)\n",
        "plt.plot(x,y5)\n",
        "plt.subplot(2,4,6)\n",
        "plt.plot(x,y6)\n",
        "plt.subplot(2,4,6)\n",
        "plt.plot(x,y6)\n",
        "plt.subplot(2,4,7)\n",
        "plt.plot(x,y7)"
      ],
      "metadata": {
        "colab": {
          "base_uri": "https://localhost:8080/",
          "height": 772
        },
        "id": "M7WU-Fpktvjv",
        "outputId": "69f7298a-e8d3-4917-8a66-d5c2feadc97d"
      },
      "execution_count": 13,
      "outputs": [
        {
          "output_type": "stream",
          "name": "stderr",
          "text": [
            "<ipython-input-13-5637653ccd55>:28: MatplotlibDeprecationWarning: Adding an axes using the same arguments as a previous axes currently reuses the earlier instance.  In a future version, a new instance will always be created and returned.  Meanwhile, this warning can be suppressed, and the future behavior ensured, by passing a unique label to each axes instance.\n",
            "  plt.subplot(2,4,6)\n"
          ]
        },
        {
          "output_type": "execute_result",
          "data": {
            "text/plain": [
              "[<matplotlib.lines.Line2D at 0x7f40f4728280>]"
            ]
          },
          "metadata": {},
          "execution_count": 13
        },
        {
          "output_type": "display_data",
          "data": {
            "text/plain": [
              "<Figure size 1440x864 with 7 Axes>"
            ],
            "image/png": "[encoded data removed]"
          },
          "metadata": {
            "needs_background": "light"
          }
        }
      ]
    },
    {
      "cell_type": "code",
      "source": [],
      "metadata": {
        "id": "7xHU8NBevZPS"
      },
      "execution_count": 13,
      "outputs": []
    },
    {
      "cell_type": "markdown",
      "source": [
        "Q.10"
      ],
      "metadata": {
        "id": "JClWfrXc1OiI"
      }
    },
    {
      "cell_type": "code",
      "source": [
        "# Generate a matrix of size 20x5 containing random numbers drawn uniformly from the range of 1 to 2\n",
        "matrix = np.random.uniform(1, 2, size=(20, 5))\n",
        "print(matrix)"
      ],
      "metadata": {
        "colab": {
          "base_uri": "https://localhost:8080/"
        },
        "id": "unoY_Hbm1O9T",
        "outputId": "1d84722b-fabb-45fb-925c-0d6d129b3e28"
      },
      "execution_count": 14,
      "outputs": [
        {
          "output_type": "stream",
          "name": "stdout",
          "text": [
            "[[1.60114168 1.50624694 1.35538741 1.86315441 1.24392746]\n",
            " [1.19939354 1.48283451 1.68507179 1.14196339 1.68015349]\n",
            " [1.24051098 1.47801375 1.11239464 1.59949897 1.32223838]\n",
            " [1.82433812 1.59543731 1.5300345  1.34386631 1.60695467]\n",
            " [1.58733193 1.55304109 1.5685272  1.29730083 1.7506138 ]\n",
            " [1.06976053 1.35321895 1.87413308 1.53339684 1.9927577 ]\n",
            " [1.65709294 1.54170702 1.81778373 1.41434138 1.61559378]\n",
            " [1.18130884 1.25678607 1.68459338 1.19944244 1.76890277]\n",
            " [1.33159759 1.76703461 1.23119228 1.40733763 1.35246311]\n",
            " [1.28113617 1.86850249 1.87579536 1.08168114 1.34443286]\n",
            " [1.29296129 1.99288031 1.97867239 1.03714634 1.31721837]\n",
            " [1.61082048 1.32413827 1.80432863 1.15085619 1.48553462]\n",
            " [1.0317648  1.67224777 1.12875364 1.65145332 1.66339155]\n",
            " [1.37919378 1.07329038 1.37010321 1.26117429 1.8816987 ]\n",
            " [1.1020841  1.9947659  1.14230111 1.37126356 1.50402051]\n",
            " [1.68828367 1.99019132 1.02253124 1.17889806 1.64284917]\n",
            " [1.88541546 1.60293242 1.01979996 1.29720706 1.67817979]\n",
            " [1.79424479 1.94090005 1.71770792 1.52713229 1.17210732]\n",
            " [1.98436213 1.01117145 1.97590086 1.36526723 1.91167609]\n",
            " [1.90225357 1.65297505 1.47444705 1.50935865 1.6301848 ]]\n"
          ]
        }
      ]
    },
    {
      "cell_type": "code",
      "source": [
        "import pandas as pd\n",
        "\n",
        "# Create a dataframe from the matrix\n",
        "df = pd.DataFrame(data=matrix, columns=['a', 'b', 'c', 'd', 'e'])\n",
        "print(df)"
      ],
      "metadata": {
        "colab": {
          "base_uri": "https://localhost:8080/"
        },
        "id": "AgCEIp701Pk5",
        "outputId": "2d01a0c3-f5f2-40e5-d399-98ae100a320f"
      },
      "execution_count": 43,
      "outputs": [
        {
          "output_type": "stream",
          "name": "stdout",
          "text": [
            "           a         b         c         d         e\n",
            "0   1.601142  1.506247  1.355387  1.863154  1.243927\n",
            "1   1.199394  1.482835  1.685072  1.141963  1.680153\n",
            "2   1.240511  1.478014  1.112395  1.599499  1.322238\n",
            "3   1.824338  1.595437  1.530035  1.343866  1.606955\n",
            "4   1.587332  1.553041  1.568527  1.297301  1.750614\n",
            "5   1.069761  1.353219  1.874133  1.533397  1.992758\n",
            "6   1.657093  1.541707  1.817784  1.414341  1.615594\n",
            "7   1.181309  1.256786  1.684593  1.199442  1.768903\n",
            "8   1.331598  1.767035  1.231192  1.407338  1.352463\n",
            "9   1.281136  1.868502  1.875795  1.081681  1.344433\n",
            "10  1.292961  1.992880  1.978672  1.037146  1.317218\n",
            "11  1.610820  1.324138  1.804329  1.150856  1.485535\n",
            "12  1.031765  1.672248  1.128754  1.651453  1.663392\n",
            "13  1.379194  1.073290  1.370103  1.261174  1.881699\n",
            "14  1.102084  1.994766  1.142301  1.371264  1.504021\n",
            "15  1.688284  1.990191  1.022531  1.178898  1.642849\n",
            "16  1.885415  1.602932  1.019800  1.297207  1.678180\n",
            "17  1.794245  1.940900  1.717708  1.527132  1.172107\n",
            "18  1.984362  1.011171  1.975901  1.365267  1.911676\n",
            "19  1.902254  1.652975  1.474447  1.509359  1.630185\n"
          ]
        }
      ]
    },
    {
      "cell_type": "code",
      "source": [
        "# Find the column with the highest standard deviation\n",
        "col = df.std(axis=0)\n",
        "print((col))"
      ],
      "metadata": {
        "colab": {
          "base_uri": "https://localhost:8080/"
        },
        "id": "k1OY5Z6u1ip4",
        "outputId": "384bfcc6-4658-46d4-c776-6cb21248d377"
      },
      "execution_count": 44,
      "outputs": [
        {
          "output_type": "stream",
          "name": "stdout",
          "text": [
            "a    0.305767\n",
            "b    0.290445\n",
            "c    0.326882\n",
            "d    0.209074\n",
            "e    0.230331\n",
            "dtype: float64\n"
          ]
        }
      ]
    },
    {
      "cell_type": "markdown",
      "source": [
        "Q.11"
      ],
      "metadata": {
        "id": "uKqVQLMwPjZC"
      }
    },
    {
      "cell_type": "markdown",
      "source": [
        "Hence coulumn c has the highest standard deviation\n"
      ],
      "metadata": {
        "id": "PvTpsg8pFwVx"
      }
    },
    {
      "cell_type": "code",
      "source": [
        "df['f'] = df['a']+ df['b']+df['c'] + df['d'] + df['e']"
      ],
      "metadata": {
        "id": "aXkAaSGM1qY8"
      },
      "execution_count": 45,
      "outputs": []
    },
    {
      "cell_type": "code",
      "source": [
        "df"
      ],
      "metadata": {
        "colab": {
          "base_uri": "https://localhost:8080/",
          "height": 676
        },
        "id": "POzwcGXdGGV-",
        "outputId": "1cc71229-e91c-454f-97e2-373587118f43"
      },
      "execution_count": 46,
      "outputs": [
        {
          "output_type": "execute_result",
          "data": {
            "text/plain": [
              "           a         b         c         d         e         f\n",
              "0   1.601142  1.506247  1.355387  1.863154  1.243927  7.569858\n",
              "1   1.199394  1.482835  1.685072  1.141963  1.680153  7.189417\n",
              "2   1.240511  1.478014  1.112395  1.599499  1.322238  6.752657\n",
              "3   1.824338  1.595437  1.530035  1.343866  1.606955  7.900631\n",
              "4   1.587332  1.553041  1.568527  1.297301  1.750614  7.756815\n",
              "5   1.069761  1.353219  1.874133  1.533397  1.992758  7.823267\n",
              "6   1.657093  1.541707  1.817784  1.414341  1.615594  8.046519\n",
              "7   1.181309  1.256786  1.684593  1.199442  1.768903  7.091033\n",
              "8   1.331598  1.767035  1.231192  1.407338  1.352463  7.089625\n",
              "9   1.281136  1.868502  1.875795  1.081681  1.344433  7.451548\n",
              "10  1.292961  1.992880  1.978672  1.037146  1.317218  7.618879\n",
              "11  1.610820  1.324138  1.804329  1.150856  1.485535  7.375678\n",
              "12  1.031765  1.672248  1.128754  1.651453  1.663392  7.147611\n",
              "13  1.379194  1.073290  1.370103  1.261174  1.881699  6.965460\n",
              "14  1.102084  1.994766  1.142301  1.371264  1.504021  7.114435\n",
              "15  1.688284  1.990191  1.022531  1.178898  1.642849  7.522753\n",
              "16  1.885415  1.602932  1.019800  1.297207  1.678180  7.483535\n",
              "17  1.794245  1.940900  1.717708  1.527132  1.172107  8.152092\n",
              "18  1.984362  1.011171  1.975901  1.365267  1.911676  8.248378\n",
              "19  1.902254  1.652975  1.474447  1.509359  1.630185  8.169219"
            ],
            "text/html": [
              "\n",
              "  <div id=\"df-013080e5-ba91-4b30-a039-096c2f38d790\">\n",
              "    <div class=\"colab-df-container\">\n",
              "      <div>\n",
              "<style scoped>\n",
              "    .dataframe tbody tr th:only-of-type {\n",
              "        vertical-align: middle;\n",
              "    }\n",
              "\n",
              "    .dataframe tbody tr th {\n",
              "        vertical-align: top;\n",
              "    }\n",
              "\n",
              "    .dataframe thead th {\n",
              "        text-align: right;\n",
              "    }\n",
              "</style>\n",
              "<table border=\"1\" class=\"dataframe\">\n",
              "  <thead>\n",
              "    <tr style=\"text-align: right;\">\n",
              "      <th></th>\n",
              "      <th>a</th>\n",
              "      <th>b</th>\n",
              "      <th>c</th>\n",
              "      <th>d</th>\n",
              "      <th>e</th>\n",
              "      <th>f</th>\n",
              "    </tr>\n",
              "  </thead>\n",
              "  <tbody>\n",
              "    <tr>\n",
              "      <th>0</th>\n",
              "      <td>1.601142</td>\n",
              "      <td>1.506247</td>\n",
              "      <td>1.355387</td>\n",
              "      <td>1.863154</td>\n",
              "      <td>1.243927</td>\n",
              "      <td>7.569858</td>\n",
              "    </tr>\n",
              "    <tr>\n",
              "      <th>1</th>\n",
              "      <td>1.199394</td>\n",
              "      <td>1.482835</td>\n",
              "      <td>1.685072</td>\n",
              "      <td>1.141963</td>\n",
              "      <td>1.680153</td>\n",
              "      <td>7.189417</td>\n",
              "    </tr>\n",
              "    <tr>\n",
              "      <th>2</th>\n",
              "      <td>1.240511</td>\n",
              "      <td>1.478014</td>\n",
              "      <td>1.112395</td>\n",
              "      <td>1.599499</td>\n",
              "      <td>1.322238</td>\n",
              "      <td>6.752657</td>\n",
              "    </tr>\n",
              "    <tr>\n",
              "      <th>3</th>\n",
              "      <td>1.824338</td>\n",
              "      <td>1.595437</td>\n",
              "      <td>1.530035</td>\n",
              "      <td>1.343866</td>\n",
              "      <td>1.606955</td>\n",
              "      <td>7.900631</td>\n",
              "    </tr>\n",
              "    <tr>\n",
              "      <th>4</th>\n",
              "      <td>1.587332</td>\n",
              "      <td>1.553041</td>\n",
              "      <td>1.568527</td>\n",
              "      <td>1.297301</td>\n",
              "      <td>1.750614</td>\n",
              "      <td>7.756815</td>\n",
              "    </tr>\n",
              "    <tr>\n",
              "      <th>5</th>\n",
              "      <td>1.069761</td>\n",
              "      <td>1.353219</td>\n",
              "      <td>1.874133</td>\n",
              "      <td>1.533397</td>\n",
              "      <td>1.992758</td>\n",
              "      <td>7.823267</td>\n",
              "    </tr>\n",
              "    <tr>\n",
              "      <th>6</th>\n",
              "      <td>1.657093</td>\n",
              "      <td>1.541707</td>\n",
              "      <td>1.817784</td>\n",
              "      <td>1.414341</td>\n",
              "      <td>1.615594</td>\n",
              "      <td>8.046519</td>\n",
              "    </tr>\n",
              "    <tr>\n",
              "      <th>7</th>\n",
              "      <td>1.181309</td>\n",
              "      <td>1.256786</td>\n",
              "      <td>1.684593</td>\n",
              "      <td>1.199442</td>\n",
              "      <td>1.768903</td>\n",
              "      <td>7.091033</td>\n",
              "    </tr>\n",
              "    <tr>\n",
              "      <th>8</th>\n",
              "      <td>1.331598</td>\n",
              "      <td>1.767035</td>\n",
              "      <td>1.231192</td>\n",
              "      <td>1.407338</td>\n",
              "      <td>1.352463</td>\n",
              "      <td>7.089625</td>\n",
              "    </tr>\n",
              "    <tr>\n",
              "      <th>9</th>\n",
              "      <td>1.281136</td>\n",
              "      <td>1.868502</td>\n",
              "      <td>1.875795</td>\n",
              "      <td>1.081681</td>\n",
              "      <td>1.344433</td>\n",
              "      <td>7.451548</td>\n",
              "    </tr>\n",
              "    <tr>\n",
              "      <th>10</th>\n",
              "      <td>1.292961</td>\n",
              "      <td>1.992880</td>\n",
              "      <td>1.978672</td>\n",
              "      <td>1.037146</td>\n",
              "      <td>1.317218</td>\n",
              "      <td>7.618879</td>\n",
              "    </tr>\n",
              "    <tr>\n",
              "      <th>11</th>\n",
              "      <td>1.610820</td>\n",
              "      <td>1.324138</td>\n",
              "      <td>1.804329</td>\n",
              "      <td>1.150856</td>\n",
              "      <td>1.485535</td>\n",
              "      <td>7.375678</td>\n",
              "    </tr>\n",
              "    <tr>\n",
              "      <th>12</th>\n",
              "      <td>1.031765</td>\n",
              "      <td>1.672248</td>\n",
              "      <td>1.128754</td>\n",
              "      <td>1.651453</td>\n",
              "      <td>1.663392</td>\n",
              "      <td>7.147611</td>\n",
              "    </tr>\n",
              "    <tr>\n",
              "      <th>13</th>\n",
              "      <td>1.379194</td>\n",
              "      <td>1.073290</td>\n",
              "      <td>1.370103</td>\n",
              "      <td>1.261174</td>\n",
              "      <td>1.881699</td>\n",
              "      <td>6.965460</td>\n",
              "    </tr>\n",
              "    <tr>\n",
              "      <th>14</th>\n",
              "      <td>1.102084</td>\n",
              "      <td>1.994766</td>\n",
              "      <td>1.142301</td>\n",
              "      <td>1.371264</td>\n",
              "      <td>1.504021</td>\n",
              "      <td>7.114435</td>\n",
              "    </tr>\n",
              "    <tr>\n",
              "      <th>15</th>\n",
              "      <td>1.688284</td>\n",
              "      <td>1.990191</td>\n",
              "      <td>1.022531</td>\n",
              "      <td>1.178898</td>\n",
              "      <td>1.642849</td>\n",
              "      <td>7.522753</td>\n",
              "    </tr>\n",
              "    <tr>\n",
              "      <th>16</th>\n",
              "      <td>1.885415</td>\n",
              "      <td>1.602932</td>\n",
              "      <td>1.019800</td>\n",
              "      <td>1.297207</td>\n",
              "      <td>1.678180</td>\n",
              "      <td>7.483535</td>\n",
              "    </tr>\n",
              "    <tr>\n",
              "      <th>17</th>\n",
              "      <td>1.794245</td>\n",
              "      <td>1.940900</td>\n",
              "      <td>1.717708</td>\n",
              "      <td>1.527132</td>\n",
              "      <td>1.172107</td>\n",
              "      <td>8.152092</td>\n",
              "    </tr>\n",
              "    <tr>\n",
              "      <th>18</th>\n",
              "      <td>1.984362</td>\n",
              "      <td>1.011171</td>\n",
              "      <td>1.975901</td>\n",
              "      <td>1.365267</td>\n",
              "      <td>1.911676</td>\n",
              "      <td>8.248378</td>\n",
              "    </tr>\n",
              "    <tr>\n",
              "      <th>19</th>\n",
              "      <td>1.902254</td>\n",
              "      <td>1.652975</td>\n",
              "      <td>1.474447</td>\n",
              "      <td>1.509359</td>\n",
              "      <td>1.630185</td>\n",
              "      <td>8.169219</td>\n",
              "    </tr>\n",
              "  </tbody>\n",
              "</table>\n",
              "</div>\n",
              "      <button class=\"colab-df-convert\" onclick=\"convertToInteractive('df-013080e5-ba91-4b30-a039-096c2f38d790')\"\n",
              "              title=\"Convert this dataframe to an interactive table.\"\n",
              "              style=\"display:none;\">\n",
              "        \n",
              "  <svg xmlns=\"http://www.w3.org/2000/svg\" height=\"24px\"viewBox=\"0 0 24 24\"\n",
              "       width=\"24px\">\n",
              "    <path d=\"M0 0h24v24H0V0z\" fill=\"none\"/>\n",
              "    <path d=\"M18.56 5.44l.94 2.06.94-2.06 2.06-.94-2.06-.94-.94-2.06-.94 2.06-2.06.94zm-11 1L8.5 8.5l.94-2.06 2.06-.94-2.06-.94L8.5 2.5l-.94 2.06-2.06.94zm10 10l.94 2.06.94-2.06 2.06-.94-2.06-.94-.94-2.06-.94 2.06-2.06.94z\"/><path d=\"M17.41 7.96l-1.37-1.37c-.4-.4-.92-.59-1.43-.59-.52 0-1.04.2-1.43.59L10.3 9.45l-7.72 7.72c-.78.78-.78 2.05 0 2.83L4 21.41c.39.39.9.59 1.41.59.51 0 1.02-.2 1.41-.59l7.78-7.78 2.81-2.81c.8-.78.8-2.07 0-2.86zM5.41 20L4 18.59l7.72-7.72 1.47 1.35L5.41 20z\"/>\n",
              "  </svg>\n",
              "      </button>\n",
              "      \n",
              "  <style>\n",
              "    .colab-df-container {\n",
              "      display:flex;\n",
              "      flex-wrap:wrap;\n",
              "      gap: 12px;\n",
              "    }\n",
              "\n",
              "    .colab-df-convert {\n",
              "      background-color: #E8F0FE;\n",
              "      border: none;\n",
              "      border-radius: 50%;\n",
              "      cursor: pointer;\n",
              "      display: none;\n",
              "      fill: #1967D2;\n",
              "      height: 32px;\n",
              "      padding: 0 0 0 0;\n",
              "      width: 32px;\n",
              "    }\n",
              "\n",
              "    .colab-df-convert:hover {\n",
              "      background-color: #E2EBFA;\n",
              "      box-shadow: 0px 1px 2px rgba(60, 64, 67, 0.3), 0px 1px 3px 1px rgba(60, 64, 67, 0.15);\n",
              "      fill: #174EA6;\n",
              "    }\n",
              "\n",
              "    [theme=dark] .colab-df-convert {\n",
              "      background-color: #3B4455;\n",
              "      fill: #D2E3FC;\n",
              "    }\n",
              "\n",
              "    [theme=dark] .colab-df-convert:hover {\n",
              "      background-color: #434B5C;\n",
              "      box-shadow: 0px 1px 3px 1px rgba(0, 0, 0, 0.15);\n",
              "      filter: drop-shadow(0px 1px 2px rgba(0, 0, 0, 0.3));\n",
              "      fill: #FFFFFF;\n",
              "    }\n",
              "  </style>\n",
              "\n",
              "      <script>\n",
              "        const buttonEl =\n",
              "          document.querySelector('#df-013080e5-ba91-4b30-a039-096c2f38d790 button.colab-df-convert');\n",
              "        buttonEl.style.display =\n",
              "          google.colab.kernel.accessAllowed ? 'block' : 'none';\n",
              "\n",
              "        async function convertToInteractive(key) {\n",
              "          const element = document.querySelector('#df-013080e5-ba91-4b30-a039-096c2f38d790');\n",
              "          const dataTable =\n",
              "            await google.colab.kernel.invokeFunction('convertToInteractive',\n",
              "                                                     [key], {});\n",
              "          if (!dataTable) return;\n",
              "\n",
              "          const docLinkHtml = 'Like what you see? Visit the ' +\n",
              "            '<a target=\"_blank\" href=https://colab.research.google.com/notebooks/data_table.ipynb>data table notebook</a>'\n",
              "            + ' to learn more about interactive tables.';\n",
              "          element.innerHTML = '';\n",
              "          dataTable['output_type'] = 'display_data';\n",
              "          await google.colab.output.renderOutput(dataTable, element);\n",
              "          const docLink = document.createElement('div');\n",
              "          docLink.innerHTML = docLinkHtml;\n",
              "          element.appendChild(docLink);\n",
              "        }\n",
              "      </script>\n",
              "    </div>\n",
              "  </div>\n",
              "  "
            ]
          },
          "metadata": {},
          "execution_count": 46
        }
      ]
    },
    {
      "cell_type": "code",
      "source": [
        "df = df.assign(g = lambda x: np.where(x['f'] < 8, 'LT8', 'GT8'))"
      ],
      "metadata": {
        "id": "yvGFq8mKGG6U"
      },
      "execution_count": 47,
      "outputs": []
    },
    {
      "cell_type": "code",
      "source": [
        "df"
      ],
      "metadata": {
        "colab": {
          "base_uri": "https://localhost:8080/",
          "height": 676
        },
        "id": "AFHI-YQYHHhV",
        "outputId": "8410bcc2-ba6c-460c-eb5f-0e9225f69a6d"
      },
      "execution_count": 48,
      "outputs": [
        {
          "output_type": "execute_result",
          "data": {
            "text/plain": [
              "           a         b         c         d         e         f    g\n",
              "0   1.601142  1.506247  1.355387  1.863154  1.243927  7.569858  LT8\n",
              "1   1.199394  1.482835  1.685072  1.141963  1.680153  7.189417  LT8\n",
              "2   1.240511  1.478014  1.112395  1.599499  1.322238  6.752657  LT8\n",
              "3   1.824338  1.595437  1.530035  1.343866  1.606955  7.900631  LT8\n",
              "4   1.587332  1.553041  1.568527  1.297301  1.750614  7.756815  LT8\n",
              "5   1.069761  1.353219  1.874133  1.533397  1.992758  7.823267  LT8\n",
              "6   1.657093  1.541707  1.817784  1.414341  1.615594  8.046519  GT8\n",
              "7   1.181309  1.256786  1.684593  1.199442  1.768903  7.091033  LT8\n",
              "8   1.331598  1.767035  1.231192  1.407338  1.352463  7.089625  LT8\n",
              "9   1.281136  1.868502  1.875795  1.081681  1.344433  7.451548  LT8\n",
              "10  1.292961  1.992880  1.978672  1.037146  1.317218  7.618879  LT8\n",
              "11  1.610820  1.324138  1.804329  1.150856  1.485535  7.375678  LT8\n",
              "12  1.031765  1.672248  1.128754  1.651453  1.663392  7.147611  LT8\n",
              "13  1.379194  1.073290  1.370103  1.261174  1.881699  6.965460  LT8\n",
              "14  1.102084  1.994766  1.142301  1.371264  1.504021  7.114435  LT8\n",
              "15  1.688284  1.990191  1.022531  1.178898  1.642849  7.522753  LT8\n",
              "16  1.885415  1.602932  1.019800  1.297207  1.678180  7.483535  LT8\n",
              "17  1.794245  1.940900  1.717708  1.527132  1.172107  8.152092  GT8\n",
              "18  1.984362  1.011171  1.975901  1.365267  1.911676  8.248378  GT8\n",
              "19  1.902254  1.652975  1.474447  1.509359  1.630185  8.169219  GT8"
            ],
            "text/html": [
              "\n",
              "  <div id=\"df-05c9d0a6-5353-48b4-97f5-f6bfe3092e18\">\n",
              "    <div class=\"colab-df-container\">\n",
              "      <div>\n",
              "<style scoped>\n",
              "    .dataframe tbody tr th:only-of-type {\n",
              "        vertical-align: middle;\n",
              "    }\n",
              "\n",
              "    .dataframe tbody tr th {\n",
              "        vertical-align: top;\n",
              "    }\n",
              "\n",
              "    .dataframe thead th {\n",
              "        text-align: right;\n",
              "    }\n",
              "</style>\n",
              "<table border=\"1\" class=\"dataframe\">\n",
              "  <thead>\n",
              "    <tr style=\"text-align: right;\">\n",
              "      <th></th>\n",
              "      <th>a</th>\n",
              "      <th>b</th>\n",
              "      <th>c</th>\n",
              "      <th>d</th>\n",
              "      <th>e</th>\n",
              "      <th>f</th>\n",
              "      <th>g</th>\n",
              "    </tr>\n",
              "  </thead>\n",
              "  <tbody>\n",
              "    <tr>\n",
              "      <th>0</th>\n",
              "      <td>1.601142</td>\n",
              "      <td>1.506247</td>\n",
              "      <td>1.355387</td>\n",
              "      <td>1.863154</td>\n",
              "      <td>1.243927</td>\n",
              "      <td>7.569858</td>\n",
              "      <td>LT8</td>\n",
              "    </tr>\n",
              "    <tr>\n",
              "      <th>1</th>\n",
              "      <td>1.199394</td>\n",
              "      <td>1.482835</td>\n",
              "      <td>1.685072</td>\n",
              "      <td>1.141963</td>\n",
              "      <td>1.680153</td>\n",
              "      <td>7.189417</td>\n",
              "      <td>LT8</td>\n",
              "    </tr>\n",
              "    <tr>\n",
              "      <th>2</th>\n",
              "      <td>1.240511</td>\n",
              "      <td>1.478014</td>\n",
              "      <td>1.112395</td>\n",
              "      <td>1.599499</td>\n",
              "      <td>1.322238</td>\n",
              "      <td>6.752657</td>\n",
              "      <td>LT8</td>\n",
              "    </tr>\n",
              "    <tr>\n",
              "      <th>3</th>\n",
              "      <td>1.824338</td>\n",
              "      <td>1.595437</td>\n",
              "      <td>1.530035</td>\n",
              "      <td>1.343866</td>\n",
              "      <td>1.606955</td>\n",
              "      <td>7.900631</td>\n",
              "      <td>LT8</td>\n",
              "    </tr>\n",
              "    <tr>\n",
              "      <th>4</th>\n",
              "      <td>1.587332</td>\n",
              "      <td>1.553041</td>\n",
              "      <td>1.568527</td>\n",
              "      <td>1.297301</td>\n",
              "      <td>1.750614</td>\n",
              "      <td>7.756815</td>\n",
              "      <td>LT8</td>\n",
              "    </tr>\n",
              "    <tr>\n",
              "      <th>5</th>\n",
              "      <td>1.069761</td>\n",
              "      <td>1.353219</td>\n",
              "      <td>1.874133</td>\n",
              "      <td>1.533397</td>\n",
              "      <td>1.992758</td>\n",
              "      <td>7.823267</td>\n",
              "      <td>LT8</td>\n",
              "    </tr>\n",
              "    <tr>\n",
              "      <th>6</th>\n",
              "      <td>1.657093</td>\n",
              "      <td>1.541707</td>\n",
              "      <td>1.817784</td>\n",
              "      <td>1.414341</td>\n",
              "      <td>1.615594</td>\n",
              "      <td>8.046519</td>\n",
              "      <td>GT8</td>\n",
              "    </tr>\n",
              "    <tr>\n",
              "      <th>7</th>\n",
              "      <td>1.181309</td>\n",
              "      <td>1.256786</td>\n",
              "      <td>1.684593</td>\n",
              "      <td>1.199442</td>\n",
              "      <td>1.768903</td>\n",
              "      <td>7.091033</td>\n",
              "      <td>LT8</td>\n",
              "    </tr>\n",
              "    <tr>\n",
              "      <th>8</th>\n",
              "      <td>1.331598</td>\n",
              "      <td>1.767035</td>\n",
              "      <td>1.231192</td>\n",
              "      <td>1.407338</td>\n",
              "      <td>1.352463</td>\n",
              "      <td>7.089625</td>\n",
              "      <td>LT8</td>\n",
              "    </tr>\n",
              "    <tr>\n",
              "      <th>9</th>\n",
              "      <td>1.281136</td>\n",
              "      <td>1.868502</td>\n",
              "      <td>1.875795</td>\n",
              "      <td>1.081681</td>\n",
              "      <td>1.344433</td>\n",
              "      <td>7.451548</td>\n",
              "      <td>LT8</td>\n",
              "    </tr>\n",
              "    <tr>\n",
              "      <th>10</th>\n",
              "      <td>1.292961</td>\n",
              "      <td>1.992880</td>\n",
              "      <td>1.978672</td>\n",
              "      <td>1.037146</td>\n",
              "      <td>1.317218</td>\n",
              "      <td>7.618879</td>\n",
              "      <td>LT8</td>\n",
              "    </tr>\n",
              "    <tr>\n",
              "      <th>11</th>\n",
              "      <td>1.610820</td>\n",
              "      <td>1.324138</td>\n",
              "      <td>1.804329</td>\n",
              "      <td>1.150856</td>\n",
              "      <td>1.485535</td>\n",
              "      <td>7.375678</td>\n",
              "      <td>LT8</td>\n",
              "    </tr>\n",
              "    <tr>\n",
              "      <th>12</th>\n",
              "      <td>1.031765</td>\n",
              "      <td>1.672248</td>\n",
              "      <td>1.128754</td>\n",
              "      <td>1.651453</td>\n",
              "      <td>1.663392</td>\n",
              "      <td>7.147611</td>\n",
              "      <td>LT8</td>\n",
              "    </tr>\n",
              "    <tr>\n",
              "      <th>13</th>\n",
              "      <td>1.379194</td>\n",
              "      <td>1.073290</td>\n",
              "      <td>1.370103</td>\n",
              "      <td>1.261174</td>\n",
              "      <td>1.881699</td>\n",
              "      <td>6.965460</td>\n",
              "      <td>LT8</td>\n",
              "    </tr>\n",
              "    <tr>\n",
              "      <th>14</th>\n",
              "      <td>1.102084</td>\n",
              "      <td>1.994766</td>\n",
              "      <td>1.142301</td>\n",
              "      <td>1.371264</td>\n",
              "      <td>1.504021</td>\n",
              "      <td>7.114435</td>\n",
              "      <td>LT8</td>\n",
              "    </tr>\n",
              "    <tr>\n",
              "      <th>15</th>\n",
              "      <td>1.688284</td>\n",
              "      <td>1.990191</td>\n",
              "      <td>1.022531</td>\n",
              "      <td>1.178898</td>\n",
              "      <td>1.642849</td>\n",
              "      <td>7.522753</td>\n",
              "      <td>LT8</td>\n",
              "    </tr>\n",
              "    <tr>\n",
              "      <th>16</th>\n",
              "      <td>1.885415</td>\n",
              "      <td>1.602932</td>\n",
              "      <td>1.019800</td>\n",
              "      <td>1.297207</td>\n",
              "      <td>1.678180</td>\n",
              "      <td>7.483535</td>\n",
              "      <td>LT8</td>\n",
              "    </tr>\n",
              "    <tr>\n",
              "      <th>17</th>\n",
              "      <td>1.794245</td>\n",
              "      <td>1.940900</td>\n",
              "      <td>1.717708</td>\n",
              "      <td>1.527132</td>\n",
              "      <td>1.172107</td>\n",
              "      <td>8.152092</td>\n",
              "      <td>GT8</td>\n",
              "    </tr>\n",
              "    <tr>\n",
              "      <th>18</th>\n",
              "      <td>1.984362</td>\n",
              "      <td>1.011171</td>\n",
              "      <td>1.975901</td>\n",
              "      <td>1.365267</td>\n",
              "      <td>1.911676</td>\n",
              "      <td>8.248378</td>\n",
              "      <td>GT8</td>\n",
              "    </tr>\n",
              "    <tr>\n",
              "      <th>19</th>\n",
              "      <td>1.902254</td>\n",
              "      <td>1.652975</td>\n",
              "      <td>1.474447</td>\n",
              "      <td>1.509359</td>\n",
              "      <td>1.630185</td>\n",
              "      <td>8.169219</td>\n",
              "      <td>GT8</td>\n",
              "    </tr>\n",
              "  </tbody>\n",
              "</table>\n",
              "</div>\n",
              "      <button class=\"colab-df-convert\" onclick=\"convertToInteractive('df-05c9d0a6-5353-48b4-97f5-f6bfe3092e18')\"\n",
              "              title=\"Convert this dataframe to an interactive table.\"\n",
              "              style=\"display:none;\">\n",
              "        \n",
              "  <svg xmlns=\"http://www.w3.org/2000/svg\" height=\"24px\"viewBox=\"0 0 24 24\"\n",
              "       width=\"24px\">\n",
              "    <path d=\"M0 0h24v24H0V0z\" fill=\"none\"/>\n",
              "    <path d=\"M18.56 5.44l.94 2.06.94-2.06 2.06-.94-2.06-.94-.94-2.06-.94 2.06-2.06.94zm-11 1L8.5 8.5l.94-2.06 2.06-.94-2.06-.94L8.5 2.5l-.94 2.06-2.06.94zm10 10l.94 2.06.94-2.06 2.06-.94-2.06-.94-.94-2.06-.94 2.06-2.06.94z\"/><path d=\"M17.41 7.96l-1.37-1.37c-.4-.4-.92-.59-1.43-.59-.52 0-1.04.2-1.43.59L10.3 9.45l-7.72 7.72c-.78.78-.78 2.05 0 2.83L4 21.41c.39.39.9.59 1.41.59.51 0 1.02-.2 1.41-.59l7.78-7.78 2.81-2.81c.8-.78.8-2.07 0-2.86zM5.41 20L4 18.59l7.72-7.72 1.47 1.35L5.41 20z\"/>\n",
              "  </svg>\n",
              "      </button>\n",
              "      \n",
              "  <style>\n",
              "    .colab-df-container {\n",
              "      display:flex;\n",
              "      flex-wrap:wrap;\n",
              "      gap: 12px;\n",
              "    }\n",
              "\n",
              "    .colab-df-convert {\n",
              "      background-color: #E8F0FE;\n",
              "      border: none;\n",
              "      border-radius: 50%;\n",
              "      cursor: pointer;\n",
              "      display: none;\n",
              "      fill: #1967D2;\n",
              "      height: 32px;\n",
              "      padding: 0 0 0 0;\n",
              "      width: 32px;\n",
              "    }\n",
              "\n",
              "    .colab-df-convert:hover {\n",
              "      background-color: #E2EBFA;\n",
              "      box-shadow: 0px 1px 2px rgba(60, 64, 67, 0.3), 0px 1px 3px 1px rgba(60, 64, 67, 0.15);\n",
              "      fill: #174EA6;\n",
              "    }\n",
              "\n",
              "    [theme=dark] .colab-df-convert {\n",
              "      background-color: #3B4455;\n",
              "      fill: #D2E3FC;\n",
              "    }\n",
              "\n",
              "    [theme=dark] .colab-df-convert:hover {\n",
              "      background-color: #434B5C;\n",
              "      box-shadow: 0px 1px 3px 1px rgba(0, 0, 0, 0.15);\n",
              "      filter: drop-shadow(0px 1px 2px rgba(0, 0, 0, 0.3));\n",
              "      fill: #FFFFFF;\n",
              "    }\n",
              "  </style>\n",
              "\n",
              "      <script>\n",
              "        const buttonEl =\n",
              "          document.querySelector('#df-05c9d0a6-5353-48b4-97f5-f6bfe3092e18 button.colab-df-convert');\n",
              "        buttonEl.style.display =\n",
              "          google.colab.kernel.accessAllowed ? 'block' : 'none';\n",
              "\n",
              "        async function convertToInteractive(key) {\n",
              "          const element = document.querySelector('#df-05c9d0a6-5353-48b4-97f5-f6bfe3092e18');\n",
              "          const dataTable =\n",
              "            await google.colab.kernel.invokeFunction('convertToInteractive',\n",
              "                                                     [key], {});\n",
              "          if (!dataTable) return;\n",
              "\n",
              "          const docLinkHtml = 'Like what you see? Visit the ' +\n",
              "            '<a target=\"_blank\" href=https://colab.research.google.com/notebooks/data_table.ipynb>data table notebook</a>'\n",
              "            + ' to learn more about interactive tables.';\n",
              "          element.innerHTML = '';\n",
              "          dataTable['output_type'] = 'display_data';\n",
              "          await google.colab.output.renderOutput(dataTable, element);\n",
              "          const docLink = document.createElement('div');\n",
              "          docLink.innerHTML = docLinkHtml;\n",
              "          element.appendChild(docLink);\n",
              "        }\n",
              "      </script>\n",
              "    </div>\n",
              "  </div>\n",
              "  "
            ]
          },
          "metadata": {},
          "execution_count": 48
        }
      ]
    },
    {
      "cell_type": "code",
      "source": [
        "df['g'].value_counts()"
      ],
      "metadata": {
        "colab": {
          "base_uri": "https://localhost:8080/"
        },
        "id": "PFpfhj6XIbge",
        "outputId": "7c56ca2e-2edf-46d7-ab8a-c59b224099df"
      },
      "execution_count": 49,
      "outputs": [
        {
          "output_type": "execute_result",
          "data": {
            "text/plain": [
              "LT8    16\n",
              "GT8     4\n",
              "Name: g, dtype: int64"
            ]
          },
          "metadata": {},
          "execution_count": 49
        }
      ]
    },
    {
      "cell_type": "code",
      "source": [
        "std_LT8=df['f'][df['g']=='LT8'].std()\n",
        "std_GT8=df['f'][df['g']=='GT8'].std()"
      ],
      "metadata": {
        "id": "H-hSnn5DJ68v"
      },
      "execution_count": 53,
      "outputs": []
    },
    {
      "cell_type": "code",
      "source": [
        "print(std_LT8,\" \",std_GT8)"
      ],
      "metadata": {
        "colab": {
          "base_uri": "https://localhost:8080/"
        },
        "id": "VnzzHu_jKFny",
        "outputId": "34c336f2-1268-4e4f-8d79-6b412dc9a8cc"
      },
      "execution_count": 54,
      "outputs": [
        {
          "output_type": "stream",
          "name": "stdout",
          "text": [
            "0.3296194609255811   0.08305542234406464\n"
          ]
        }
      ]
    },
    {
      "cell_type": "code",
      "source": [],
      "metadata": {
        "id": "lCWBMhjSKWIj"
      },
      "execution_count": null,
      "outputs": []
    },
    {
      "cell_type": "markdown",
      "source": [
        "Q.12\n",
        "\n",
        "Explaining Broadcasting in numpy "
      ],
      "metadata": {
        "id": "hav-HljHKySP"
      }
    },
    {
      "cell_type": "code",
      "source": [
        "\n",
        "\n",
        "# Create a 1-dimensional array with 5 elements\n",
        "a = np.array([1, 2, 3, 4, 5])\n",
        "\n",
        "# Create a 2-dimensional array with 3 rows and 5 columns\n",
        "b = np.array([[1, 2, 3, 4, 5],\n",
        "              [6, 7, 8, 9, 10],\n",
        "              [11, 12, 13, 14, 15]])\n",
        "\n",
        "# The shapes of 'a' and 'b' are incompatible, but broadcasting allows us to perform element-wise multiplication\n",
        "c = a * b\n",
        "\n",
        "print(c)\n"
      ],
      "metadata": {
        "colab": {
          "base_uri": "https://localhost:8080/"
        },
        "id": "qGN5V7sZK5av",
        "outputId": "16803c4f-0df4-4b37-ff58-3b3307cc05c5"
      },
      "execution_count": 55,
      "outputs": [
        {
          "output_type": "stream",
          "name": "stdout",
          "text": [
            "[[ 1  4  9 16 25]\n",
            " [ 6 14 24 36 50]\n",
            " [11 24 39 56 75]]\n"
          ]
        }
      ]
    },
    {
      "cell_type": "code",
      "source": [],
      "metadata": {
        "id": "1w4tyQoxLgUI"
      },
      "execution_count": null,
      "outputs": []
    },
    {
      "cell_type": "markdown",
      "source": [
        "Q.13"
      ],
      "metadata": {
        "id": "NTkEHZ5sLjG8"
      }
    },
    {
      "cell_type": "code",
      "source": [
        "def argmin(arr):\n",
        "    min_element = min(arr)\n",
        "    for i in range(len(arr)):\n",
        "        if(arr[i]==min_element):\n",
        "            return i"
      ],
      "metadata": {
        "id": "hJhoRJL_LlYG"
      },
      "execution_count": 57,
      "outputs": []
    },
    {
      "cell_type": "code",
      "source": [
        "arr = [3,1,2,5,4]\n",
        "print(argmin(arr))"
      ],
      "metadata": {
        "colab": {
          "base_uri": "https://localhost:8080/"
        },
        "id": "bvvqlQxoL583",
        "outputId": "ee28d6b7-f481-4aed-beb0-8dac975401e4"
      },
      "execution_count": 58,
      "outputs": [
        {
          "output_type": "stream",
          "name": "stdout",
          "text": [
            "1\n"
          ]
        }
      ]
    },
    {
      "cell_type": "code",
      "source": [
        "#verifying the solution using np.argmin\n",
        "print(np.argmin(arr))"
      ],
      "metadata": {
        "colab": {
          "base_uri": "https://localhost:8080/"
        },
        "id": "8i3ojTjJL-bK",
        "outputId": "5be78cdf-684a-4fe2-9749-084a1a3679dc"
      },
      "execution_count": 61,
      "outputs": [
        {
          "output_type": "stream",
          "name": "stdout",
          "text": [
            "1\n"
          ]
        }
      ]
    },
    {
      "cell_type": "code",
      "source": [],
      "metadata": {
        "id": "YsdkYmpOMFKa"
      },
      "execution_count": null,
      "outputs": []
    }
  ]
}